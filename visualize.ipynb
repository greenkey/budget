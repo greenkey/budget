{
 "cells": [
  {
   "attachments": {},
   "cell_type": "markdown",
   "metadata": {},
   "source": [
    "## Init"
   ]
  },
  {
   "cell_type": "code",
   "execution_count": null,
   "metadata": {},
   "outputs": [],
   "source": [
    "import pandas as pd\n",
    "import sqlite3\n",
    "import config\n",
    "\n",
    "def query(sql: str) -> pd.DataFrame:\n",
    "    \"\"\"\n",
    "    Execute a query and yield the results\n",
    "    \"\"\"\n",
    "    conn = sqlite3.connect(config.DB_PATH)\n",
    "    return pd.read_sql_query(sql, conn)"
   ]
  },
  {
   "cell_type": "code",
   "execution_count": null,
   "metadata": {},
   "outputs": [],
   "source": [
    "data = query(\"SELECT * FROM ledger_items\")\n",
    "data[\"amount\"] = data[\"amount\"].astype(float)\n",
    "data[\"month\"] = data[\"tx_date\"].str[:7]\n",
    "data.columns, data['month'].max()"
   ]
  },
  {
   "attachments": {},
   "cell_type": "markdown",
   "metadata": {},
   "source": [
    "## Query"
   ]
  },
  {
   "cell_type": "code",
   "execution_count": null,
   "metadata": {},
   "outputs": [],
   "source": [
    "query(\"SELECT max(tx_date) FROM ledger_items\")"
   ]
  },
  {
   "attachments": {},
   "cell_type": "markdown",
   "metadata": {},
   "source": [
    "## Monthly expenses by category, months"
   ]
  },
  {
   "cell_type": "code",
   "execution_count": null,
   "metadata": {},
   "outputs": [],
   "source": [
    "expenses = data[data[\"ledger_item_type\"] == \"expense\"]\n",
    "df = expenses.groupby([\"month\", \"category\"])[\"amount\"].sum().to_frame()\n",
    "df = pd.pivot_table(df, index=\"month\", columns=\"category\", values=\"amount\", fill_value=0)\n",
    "df = df.iloc[::-1]\n",
    "df.style.background_gradient(cmap='Blues')\n",
    "# months_by_cat"
   ]
  }
 ],
 "metadata": {
  "kernelspec": {
   "display_name": ".venv10",
   "language": "python",
   "name": "python3"
  },
  "language_info": {
   "codemirror_mode": {
    "name": "ipython",
    "version": 3
   },
   "file_extension": ".py",
   "mimetype": "text/x-python",
   "name": "python",
   "nbconvert_exporter": "python",
   "pygments_lexer": "ipython3",
   "version": "3.10.6"
  },
  "orig_nbformat": 4,
  "vscode": {
   "interpreter": {
    "hash": "2e36a781fc27ae537bae6d77175f755f0e939cb6884a912b2175442395fb8697"
   }
  }
 },
 "nbformat": 4,
 "nbformat_minor": 2
}
